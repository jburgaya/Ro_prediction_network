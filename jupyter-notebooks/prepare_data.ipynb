{
 "cells": [
  {
   "cell_type": "code",
   "execution_count": 1,
   "id": "6bb05a9d-01f8-4bda-9906-1e1cfa7d56a8",
   "metadata": {},
   "outputs": [],
   "source": [
    "import pandas as pd"
   ]
  },
  {
   "cell_type": "code",
   "execution_count": 3,
   "id": "f217db6b-af06-46e8-92cd-c4b6916df289",
   "metadata": {},
   "outputs": [
    {
     "name": "stderr",
     "output_type": "stream",
     "text": [
      "/home/burgaya/anaconda3/lib/python3.9/site-packages/IPython/core/interactiveshell.py:3444: DtypeWarning: Columns (3) have mixed types.Specify dtype option on import or set low_memory=False.\n",
      "  exec(code_obj, self.user_global_ns, self.user_ns)\n"
     ]
    }
   ],
   "source": [
    "first = pd.read_csv('/home/burgaya/Desktop/transmission_model/data/movement-range-data-2020-03-01--2020-12-31.txt', sep='\\t')"
   ]
  },
  {
   "cell_type": "code",
   "execution_count": 4,
   "id": "2a1f9587-c996-40ee-a7b0-257f51565ca9",
   "metadata": {},
   "outputs": [
    {
     "data": {
      "text/html": [
       "<div>\n",
       "<style scoped>\n",
       "    .dataframe tbody tr th:only-of-type {\n",
       "        vertical-align: middle;\n",
       "    }\n",
       "\n",
       "    .dataframe tbody tr th {\n",
       "        vertical-align: top;\n",
       "    }\n",
       "\n",
       "    .dataframe thead th {\n",
       "        text-align: right;\n",
       "    }\n",
       "</style>\n",
       "<table border=\"1\" class=\"dataframe\">\n",
       "  <thead>\n",
       "    <tr style=\"text-align: right;\">\n",
       "      <th></th>\n",
       "      <th>ds</th>\n",
       "      <th>country</th>\n",
       "      <th>polygon_source</th>\n",
       "      <th>polygon_id</th>\n",
       "      <th>polygon_name</th>\n",
       "      <th>all_day_bing_tiles_visited_relative_change</th>\n",
       "      <th>all_day_ratio_single_tile_users</th>\n",
       "      <th>baseline_name</th>\n",
       "      <th>baseline_type</th>\n",
       "    </tr>\n",
       "  </thead>\n",
       "  <tbody>\n",
       "    <tr>\n",
       "      <th>0</th>\n",
       "      <td>2020-03-01</td>\n",
       "      <td>AGO</td>\n",
       "      <td>GADM</td>\n",
       "      <td>AGO.10.10_1</td>\n",
       "      <td>Lubango</td>\n",
       "      <td>-0.02992</td>\n",
       "      <td>0.18751</td>\n",
       "      <td>full_february</td>\n",
       "      <td>DAY_OF_WEEK</td>\n",
       "    </tr>\n",
       "    <tr>\n",
       "      <th>1</th>\n",
       "      <td>2020-03-02</td>\n",
       "      <td>AGO</td>\n",
       "      <td>GADM</td>\n",
       "      <td>AGO.10.10_1</td>\n",
       "      <td>Lubango</td>\n",
       "      <td>0.06746</td>\n",
       "      <td>0.10521</td>\n",
       "      <td>full_february</td>\n",
       "      <td>DAY_OF_WEEK</td>\n",
       "    </tr>\n",
       "    <tr>\n",
       "      <th>2</th>\n",
       "      <td>2020-03-03</td>\n",
       "      <td>AGO</td>\n",
       "      <td>GADM</td>\n",
       "      <td>AGO.10.10_1</td>\n",
       "      <td>Lubango</td>\n",
       "      <td>0.05873</td>\n",
       "      <td>0.11397</td>\n",
       "      <td>full_february</td>\n",
       "      <td>DAY_OF_WEEK</td>\n",
       "    </tr>\n",
       "    <tr>\n",
       "      <th>3</th>\n",
       "      <td>2020-03-04</td>\n",
       "      <td>AGO</td>\n",
       "      <td>GADM</td>\n",
       "      <td>AGO.10.10_1</td>\n",
       "      <td>Lubango</td>\n",
       "      <td>0.01288</td>\n",
       "      <td>0.10492</td>\n",
       "      <td>full_february</td>\n",
       "      <td>DAY_OF_WEEK</td>\n",
       "    </tr>\n",
       "    <tr>\n",
       "      <th>4</th>\n",
       "      <td>2020-03-05</td>\n",
       "      <td>AGO</td>\n",
       "      <td>GADM</td>\n",
       "      <td>AGO.10.10_1</td>\n",
       "      <td>Lubango</td>\n",
       "      <td>0.02753</td>\n",
       "      <td>0.11056</td>\n",
       "      <td>full_february</td>\n",
       "      <td>DAY_OF_WEEK</td>\n",
       "    </tr>\n",
       "    <tr>\n",
       "      <th>...</th>\n",
       "      <td>...</td>\n",
       "      <td>...</td>\n",
       "      <td>...</td>\n",
       "      <td>...</td>\n",
       "      <td>...</td>\n",
       "      <td>...</td>\n",
       "      <td>...</td>\n",
       "      <td>...</td>\n",
       "      <td>...</td>\n",
       "    </tr>\n",
       "    <tr>\n",
       "      <th>5229337</th>\n",
       "      <td>2020-12-12</td>\n",
       "      <td>ZWE</td>\n",
       "      <td>GADM</td>\n",
       "      <td>ZWE.9.1_1</td>\n",
       "      <td>Beitbridge</td>\n",
       "      <td>0.08277</td>\n",
       "      <td>0.09513</td>\n",
       "      <td>full_february</td>\n",
       "      <td>DAY_OF_WEEK</td>\n",
       "    </tr>\n",
       "    <tr>\n",
       "      <th>5229338</th>\n",
       "      <td>2020-12-13</td>\n",
       "      <td>ZWE</td>\n",
       "      <td>GADM</td>\n",
       "      <td>ZWE.9.1_1</td>\n",
       "      <td>Beitbridge</td>\n",
       "      <td>0.03378</td>\n",
       "      <td>0.09936</td>\n",
       "      <td>full_february</td>\n",
       "      <td>DAY_OF_WEEK</td>\n",
       "    </tr>\n",
       "    <tr>\n",
       "      <th>5229339</th>\n",
       "      <td>2020-12-17</td>\n",
       "      <td>ZWE</td>\n",
       "      <td>GADM</td>\n",
       "      <td>ZWE.9.1_1</td>\n",
       "      <td>Beitbridge</td>\n",
       "      <td>-0.00025</td>\n",
       "      <td>0.08457</td>\n",
       "      <td>full_february</td>\n",
       "      <td>DAY_OF_WEEK</td>\n",
       "    </tr>\n",
       "    <tr>\n",
       "      <th>5229340</th>\n",
       "      <td>2020-12-18</td>\n",
       "      <td>ZWE</td>\n",
       "      <td>GADM</td>\n",
       "      <td>ZWE.9.1_1</td>\n",
       "      <td>Beitbridge</td>\n",
       "      <td>-0.05873</td>\n",
       "      <td>0.08148</td>\n",
       "      <td>full_february</td>\n",
       "      <td>DAY_OF_WEEK</td>\n",
       "    </tr>\n",
       "    <tr>\n",
       "      <th>5229341</th>\n",
       "      <td>2020-12-31</td>\n",
       "      <td>ZWE</td>\n",
       "      <td>GADM</td>\n",
       "      <td>ZWE.9.1_1</td>\n",
       "      <td>Beitbridge</td>\n",
       "      <td>0.13094</td>\n",
       "      <td>0.08652</td>\n",
       "      <td>full_february</td>\n",
       "      <td>DAY_OF_WEEK</td>\n",
       "    </tr>\n",
       "  </tbody>\n",
       "</table>\n",
       "<p>5229342 rows × 9 columns</p>\n",
       "</div>"
      ],
      "text/plain": [
       "                 ds country polygon_source   polygon_id polygon_name  \\\n",
       "0        2020-03-01     AGO           GADM  AGO.10.10_1      Lubango   \n",
       "1        2020-03-02     AGO           GADM  AGO.10.10_1      Lubango   \n",
       "2        2020-03-03     AGO           GADM  AGO.10.10_1      Lubango   \n",
       "3        2020-03-04     AGO           GADM  AGO.10.10_1      Lubango   \n",
       "4        2020-03-05     AGO           GADM  AGO.10.10_1      Lubango   \n",
       "...             ...     ...            ...          ...          ...   \n",
       "5229337  2020-12-12     ZWE           GADM    ZWE.9.1_1   Beitbridge   \n",
       "5229338  2020-12-13     ZWE           GADM    ZWE.9.1_1   Beitbridge   \n",
       "5229339  2020-12-17     ZWE           GADM    ZWE.9.1_1   Beitbridge   \n",
       "5229340  2020-12-18     ZWE           GADM    ZWE.9.1_1   Beitbridge   \n",
       "5229341  2020-12-31     ZWE           GADM    ZWE.9.1_1   Beitbridge   \n",
       "\n",
       "         all_day_bing_tiles_visited_relative_change  \\\n",
       "0                                          -0.02992   \n",
       "1                                           0.06746   \n",
       "2                                           0.05873   \n",
       "3                                           0.01288   \n",
       "4                                           0.02753   \n",
       "...                                             ...   \n",
       "5229337                                     0.08277   \n",
       "5229338                                     0.03378   \n",
       "5229339                                    -0.00025   \n",
       "5229340                                    -0.05873   \n",
       "5229341                                     0.13094   \n",
       "\n",
       "         all_day_ratio_single_tile_users  baseline_name baseline_type  \n",
       "0                                0.18751  full_february   DAY_OF_WEEK  \n",
       "1                                0.10521  full_february   DAY_OF_WEEK  \n",
       "2                                0.11397  full_february   DAY_OF_WEEK  \n",
       "3                                0.10492  full_february   DAY_OF_WEEK  \n",
       "4                                0.11056  full_february   DAY_OF_WEEK  \n",
       "...                                  ...            ...           ...  \n",
       "5229337                          0.09513  full_february   DAY_OF_WEEK  \n",
       "5229338                          0.09936  full_february   DAY_OF_WEEK  \n",
       "5229339                          0.08457  full_february   DAY_OF_WEEK  \n",
       "5229340                          0.08148  full_february   DAY_OF_WEEK  \n",
       "5229341                          0.08652  full_february   DAY_OF_WEEK  \n",
       "\n",
       "[5229342 rows x 9 columns]"
      ]
     },
     "execution_count": 4,
     "metadata": {},
     "output_type": "execute_result"
    }
   ],
   "source": [
    "first"
   ]
  },
  {
   "cell_type": "code",
   "execution_count": 5,
   "id": "1fbd807d-6909-4119-b5bb-eaf7dedc3d3e",
   "metadata": {},
   "outputs": [],
   "source": [
    "first_g = first[first.country == 'DEU']"
   ]
  },
  {
   "cell_type": "code",
   "execution_count": 6,
   "id": "d1c63539-f364-41a8-8a11-2ee268de96c7",
   "metadata": {},
   "outputs": [],
   "source": [
    "f_g = first_g[['ds', 'polygon_name', 'all_day_bing_tiles_visited_relative_change']]"
   ]
  },
  {
   "cell_type": "code",
   "execution_count": 7,
   "id": "ebece271-0ffb-4107-929d-c0d0b8b71282",
   "metadata": {},
   "outputs": [
    {
     "name": "stderr",
     "output_type": "stream",
     "text": [
      "/home/burgaya/anaconda3/lib/python3.9/site-packages/pandas/core/frame.py:5039: SettingWithCopyWarning: \n",
      "A value is trying to be set on a copy of a slice from a DataFrame\n",
      "\n",
      "See the caveats in the documentation: https://pandas.pydata.org/pandas-docs/stable/user_guide/indexing.html#returning-a-view-versus-a-copy\n",
      "  return super().rename(\n"
     ]
    }
   ],
   "source": [
    "f_g.rename(columns={'ds':'date',\n",
    "                   'polygon_name':'state',\n",
    "                   'all_day_bing_tiles_visited_relative_change':'relative movement change'}, inplace=True)"
   ]
  },
  {
   "cell_type": "code",
   "execution_count": 9,
   "id": "63261186-a8b6-42da-83f3-34c07a255629",
   "metadata": {},
   "outputs": [],
   "source": [
    "f_g.to_csv('./2020_movement_change.csv', sep='\\t', index=False)"
   ]
  },
  {
   "cell_type": "code",
   "execution_count": 2,
   "id": "63dcc3a2-292d-4ae2-8029-d881b1707a5e",
   "metadata": {},
   "outputs": [
    {
     "name": "stderr",
     "output_type": "stream",
     "text": [
      "/home/burgaya/anaconda3/lib/python3.9/site-packages/IPython/core/interactiveshell.py:3444: DtypeWarning: Columns (3) have mixed types.Specify dtype option on import or set low_memory=False.\n",
      "  exec(code_obj, self.user_global_ns, self.user_ns)\n"
     ]
    }
   ],
   "source": [
    "second = pd.read_csv('/home/burgaya/Desktop/transmission_model/data/movement-range-2022-05-22.txt', sep='\\t')"
   ]
  },
  {
   "cell_type": "code",
   "execution_count": 3,
   "id": "fd54f899-8976-4d33-97f8-bc265f4174ba",
   "metadata": {},
   "outputs": [],
   "source": [
    "second_g = second[second.country == 'DEU']"
   ]
  },
  {
   "cell_type": "code",
   "execution_count": 4,
   "id": "7fcf1bae-2f1c-4af5-835b-e43b4ff0d755",
   "metadata": {},
   "outputs": [
    {
     "data": {
      "text/plain": [
       "Index(['ds', 'country', 'polygon_source', 'polygon_id', 'polygon_name',\n",
       "       'all_day_bing_tiles_visited_relative_change',\n",
       "       'all_day_ratio_single_tile_users', 'baseline_name', 'baseline_type'],\n",
       "      dtype='object')"
      ]
     },
     "execution_count": 4,
     "metadata": {},
     "output_type": "execute_result"
    }
   ],
   "source": [
    "second_g.columns"
   ]
  },
  {
   "cell_type": "code",
   "execution_count": 5,
   "id": "71c015df-0257-44f2-aafc-99cbedec3442",
   "metadata": {},
   "outputs": [],
   "source": [
    "gg = second_g[['ds', 'polygon_name', 'all_day_bing_tiles_visited_relative_change']]"
   ]
  },
  {
   "cell_type": "code",
   "execution_count": 6,
   "id": "cc351840-7843-4ea6-9e3a-3a58ef8e0a9e",
   "metadata": {},
   "outputs": [
    {
     "name": "stderr",
     "output_type": "stream",
     "text": [
      "/home/burgaya/anaconda3/lib/python3.9/site-packages/pandas/core/frame.py:5039: SettingWithCopyWarning: \n",
      "A value is trying to be set on a copy of a slice from a DataFrame\n",
      "\n",
      "See the caveats in the documentation: https://pandas.pydata.org/pandas-docs/stable/user_guide/indexing.html#returning-a-view-versus-a-copy\n",
      "  return super().rename(\n"
     ]
    }
   ],
   "source": [
    "gg.rename(columns={'ds':'date',\n",
    "                   'polygon_name':'state',\n",
    "                   'all_day_bing_tiles_visited_relative_change':'relative movement change'}, inplace=True)"
   ]
  },
  {
   "cell_type": "code",
   "execution_count": 8,
   "id": "75dc760c-e449-4e76-b83c-6a9ec62d130a",
   "metadata": {},
   "outputs": [],
   "source": [
    "gg.to_csv('./2021-2023_movement_change.csv', sep='\\t', index=False)"
   ]
  }
 ],
 "metadata": {
  "kernelspec": {
   "display_name": "Python 3 (ipykernel)",
   "language": "python",
   "name": "python3"
  },
  "language_info": {
   "codemirror_mode": {
    "name": "ipython",
    "version": 3
   },
   "file_extension": ".py",
   "mimetype": "text/x-python",
   "name": "python",
   "nbconvert_exporter": "python",
   "pygments_lexer": "ipython3",
   "version": "3.9.7"
  }
 },
 "nbformat": 4,
 "nbformat_minor": 5
}
